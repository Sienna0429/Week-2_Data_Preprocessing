{
  "nbformat": 4,
  "nbformat_minor": 0,
  "metadata": {
    "colab": {
      "provenance": [],
      "mount_file_id": "1olwBFBllbbC22kSRdtZ_0jT44lWXlBYe",
      "authorship_tag": "ABX9TyN6fkd+x6k2tPfnuxtKP/Ns",
      "include_colab_link": true
    },
    "kernelspec": {
      "name": "python3",
      "display_name": "Python 3"
    },
    "language_info": {
      "name": "python"
    }
  },
  "cells": [
    {
      "cell_type": "markdown",
      "metadata": {
        "id": "view-in-github",
        "colab_type": "text"
      },
      "source": [
        "<a href=\"https://colab.research.google.com/github/Sienna0429/Week-2_Data_Preprocessing/blob/main/merge_file.ipynb\" target=\"_parent\"><img src=\"https://colab.research.google.com/assets/colab-badge.svg\" alt=\"Open In Colab\"/></a>"
      ]
    },
    {
      "cell_type": "code",
      "source": [
        "# Get the critical imports out of the way\n",
        "import matplotlib.pyplot as plt\n",
        "import pandas as pd\n",
        "import numpy as np\n",
        "import librosa.display\n",
        "import soundfile\n",
        "import os\n",
        "# matplotlib complains about the behaviour of librosa.display, so we'll ignore those warnings:\n",
        "import warnings; warnings.filterwarnings('ignore')\n",
        "from IPython.core.display import HTML\n",
        "# Center matplotlib figures...\n",
        "HTML(\"\"\"\n",
        "<style>\n",
        ".output_png {\n",
        "    display: table-cell;\n",
        "    text-align: center;\n",
        "    vertical-align: middle;\n",
        "}\n",
        "</style>\n",
        "\"\"\")"
      ],
      "metadata": {
        "colab": {
          "base_uri": "https://localhost:8080/",
          "height": 17
        },
        "id": "0vFsQuPxB3KA",
        "outputId": "f38ca84e-6d4a-4a88-b530-c54627fbad15"
      },
      "execution_count": 136,
      "outputs": [
        {
          "output_type": "execute_result",
          "data": {
            "text/plain": [
              "<IPython.core.display.HTML object>"
            ],
            "text/html": [
              "\n",
              "<style>\n",
              ".output_png {\n",
              "    display: table-cell;\n",
              "    text-align: center;\n",
              "    vertical-align: middle;\n",
              "}\n",
              "</style>\n"
            ]
          },
          "metadata": {},
          "execution_count": 136
        }
      ]
    },
    {
      "cell_type": "code",
      "source": [
        "from google.colab import drive\n",
        "drive.mount('/content/drive')"
      ],
      "metadata": {
        "colab": {
          "base_uri": "https://localhost:8080/"
        },
        "id": "G7iLbn-GR9R7",
        "outputId": "2fdac6f1-4748-4835-c30e-d8f668c37daa"
      },
      "execution_count": 118,
      "outputs": [
        {
          "output_type": "stream",
          "name": "stdout",
          "text": [
            "Drive already mounted at /content/drive; to attempt to forcibly remount, call drive.mount(\"/content/drive\", force_remount=True).\n"
          ]
        }
      ]
    },
    {
      "cell_type": "code",
      "source": [
        "import glob"
      ],
      "metadata": {
        "id": "G3l0XB-hCKTT"
      },
      "execution_count": 119,
      "outputs": []
    },
    {
      "cell_type": "code",
      "source": [
        "import os\n",
        "import re\n",
        "from google.colab import drive\n",
        "\n",
        "def convert_emodb_to_target(filename):\n",
        "    # Use regular expression to parse different parts of the EmoDB filename\n",
        "    pattern = re.compile(r'(\\d{2})([a-z])(\\d{2})([A-Za-z])([A-Za-z])\\.wav')\n",
        "    match = pattern.match(filename)\n",
        "\n",
        "    if match:\n",
        "        # Extract information from the filename\n",
        "        speaker_number = match.group(1)\n",
        "        text_code = match.group(2)\n",
        "        emotion_code = match.group(3)\n",
        "\n",
        "        # Handle emotion mapping rules\n",
        "        emotion_mapping = {'W': '05', 'E': '07', 'A': '06', 'F': '03', 'T': '04', 'N': '01'}\n",
        "        target_emotion = emotion_mapping.get(emotion_code.upper(), '00')\n",
        "\n",
        "        # Handle actor mapping rules\n",
        "        speaker_mapping = {'03': '25', '08': '26', '09': '27', '10': '29', '11': '31',\n",
        "                           '12': '30', '13': '28', '14': '30', '15': '31', '16': '32'}\n",
        "        target_actor = speaker_mapping.get(speaker_number, '00')\n",
        "\n",
        "        # Additional tags\n",
        "        version_tag = match.group(5) if match.group(5) else '00'  # Version number tag\n",
        "        sentence_tag = match.group(4) if match.group(4) else '00'  # Sentence tag\n",
        "\n",
        "        # Remove all lower-case letters from the final filename\n",
        "        target_filename = f\"{version_tag}-{sentence_tag}-{target_emotion}-00-00-00-{target_actor}.wav\"\n",
        "\n",
        "        return target_filename\n",
        "    else:\n",
        "        return None\n",
        "\n",
        "# Set the EmoDB folder path\n",
        "emo_db_folder = '/content/drive/MyDrive/EMODB'\n",
        "\n",
        "# Recursively traverse each file in the EmoDB folder, including subfolders\n",
        "for root, dirs, files in os.walk(emo_db_folder):\n",
        "    for filename in files:\n",
        "        if filename.endswith(\".wav\"):\n",
        "            # Convert the filename using the defined rules\n",
        "            converted_filename = convert_emodb_to_target(filename)\n",
        "            if converted_filename:\n",
        "                # Rename the file\n",
        "                original_path = os.path.join(root, filename)\n",
        "                new_path = os.path.join(root, converted_filename)\n",
        "                os.rename(original_path, new_path)\n"
      ],
      "metadata": {
        "id": "-_2iTaLF2spg"
      },
      "execution_count": 135,
      "outputs": []
    },
    {
      "cell_type": "code",
      "source": [
        "import librosa\n",
        "\n",
        "def feature_chromagram(waveform, sample_rate):\n",
        "    # STFT computed here explicitly; mel spectrogram and MFCC functions do this under the hood\n",
        "    stft_spectrogram=np.abs(librosa.stft(waveform))\n",
        "    #print(stft_spectrogram.shape)\n",
        "    # Produce the chromagram for all STFT frames and get the mean of each column of the resulting matrix to create a feature array\n",
        "    chromagram=np.mean(librosa.feature.chroma_stft(S=stft_spectrogram, sr=sample_rate).T,axis=0)\n",
        "    #print(chromagram.shape)\n",
        "    return chromagram\n",
        "\n",
        "def feature_melspectrogram(waveform, sample_rate):\n",
        "    # Produce the mel spectrogram for all STFT frames and get the mean of each column of the resulting matrix to create a feature array\n",
        "    # Using 8khz as upper frequency bound should be enough for most speech classification tasks\n",
        "    melspectrogram=np.mean(librosa.feature.melspectrogram(y=waveform, sr=sample_rate, n_mels=128, fmax=8000).T,axis=0)\n",
        "    return melspectrogram\n",
        "\n",
        "def feature_mfcc(waveform, sample_rate):\n",
        "    # Compute the MFCCs for all STFT frames and get the mean of each column of the resulting matrix to create a feature array\n",
        "    # 40 filterbanks = 40 coefficients\n",
        "    mfc_coefficients=np.mean(librosa.feature.mfcc(y=waveform, sr=sample_rate, n_mfcc=40).T, axis=0)\n",
        "    return mfc_coefficients"
      ],
      "metadata": {
        "id": "5Gnhtuk7Cm3g"
      },
      "execution_count": 66,
      "outputs": []
    },
    {
      "cell_type": "code",
      "source": [
        "def get_features(file):\n",
        "    # load an individual soundfile\n",
        "     with soundfile.SoundFile(file) as audio:\n",
        "        waveform = audio.read(dtype=\"float32\")\n",
        "        sample_rate = audio.samplerate\n",
        "        # compute features of soundfile\n",
        "        chromagram = feature_chromagram(waveform, sample_rate)\n",
        "        melspectrogram = feature_melspectrogram(waveform, sample_rate)\n",
        "        mfc_coefficients = feature_mfcc(waveform, sample_rate)\n",
        "        feature_matrix=np.array([])\n",
        "\n",
        "        # use np.hstack to stack our feature arrays horizontally to create a feature matrix\n",
        "        feature_matrix = np.hstack((chromagram, melspectrogram, mfc_coefficients))\n",
        "\n",
        "        return feature_matrix"
      ],
      "metadata": {
        "id": "BUMLcKxDBnCV"
      },
      "execution_count": 92,
      "outputs": []
    },
    {
      "cell_type": "code",
      "source": [
        "#Emotions in the merged RAVDESS and EmoDB dataset\n",
        "emotions={\n",
        "  '01':'neutral',\n",
        "  '02':'calm',\n",
        "  '03':'happy',\n",
        "  '04':'sad',\n",
        "  '05':'angry',\n",
        "  '06':'fearful',\n",
        "  '07':'disgust',\n",
        "  '08':'surprised'\n",
        "\n",
        "}"
      ],
      "metadata": {
        "id": "h_80n4w_A-qj"
      },
      "execution_count": 120,
      "outputs": []
    },
    {
      "cell_type": "code",
      "source": [
        "emotionsE ={\n",
        "  'W':'angry',\n",
        "  'F':'happy',\n",
        "  'T':'sad',\n",
        "  'E':'disgust',\n",
        "  'N':'neutral',\n",
        "  'A':'fearful',\n",
        "  \"L\": \"boredom\"\n",
        "}"
      ],
      "metadata": {
        "id": "HdtQhFRwPEpi"
      },
      "execution_count": 121,
      "outputs": []
    },
    {
      "cell_type": "code",
      "source": [
        "#gender in the merged RAVDESS and EmoDB dataset\n",
        "genders={\n",
        "  '01':'male',\n",
        "  '02':'female',\n",
        "  '03':'male',\n",
        "  '04':'female',\n",
        "  '05':'male',\n",
        "  '06':'female',\n",
        "  '07':'male',\n",
        "  '08':'female',\n",
        "  '09':'male',\n",
        "  '10':'female',\n",
        "  '11':'male',\n",
        "  '12':'female',\n",
        "  '13':'male',\n",
        "  '14':'female',\n",
        "  '15':'male',\n",
        "  '16':'female',\n",
        "  '17':'male',\n",
        "  '18':'female',\n",
        "  '19':'male',\n",
        "  '20':'female',\n",
        "  '21':'male',\n",
        "  '22':'female',\n",
        "  '23':'male',\n",
        "  '24':'female'\n",
        "}"
      ],
      "metadata": {
        "id": "auaYv3orAu7m"
      },
      "execution_count": null,
      "outputs": []
    },
    {
      "cell_type": "code",
      "source": [
        "genderE ={\n",
        "    '03': 'male',\n",
        "    '08': 'female',\n",
        "    '09': 'female',\n",
        "    '10': 'male',\n",
        "    '11': 'male',\n",
        "    '12': 'male',\n",
        "    '13': 'female',\n",
        "    '14': 'female',\n",
        "    '15': 'male',\n",
        "    '16': 'female'\n",
        "}"
      ],
      "metadata": {
        "id": "ZYeiDgjFAxaF"
      },
      "execution_count": null,
      "outputs": []
    },
    {
      "cell_type": "code",
      "source": [
        "#emotions in E\n",
        "import os, glob\n",
        "\n",
        "def load_data():\n",
        "    X,y=[],[]\n",
        "    count = 0\n",
        "    for file in glob.glob(\"/content/drive/MyDrive/EMODB_1/wav/Actor_*/*.wav\"):\n",
        "        file_name=os.path.basename(file)\n",
        "\n",
        "        emotion=emotionsE[(file_name[5])]\n",
        "        #print(emotion)\n",
        "        features = get_features(file)\n",
        "\n",
        "        X.append(features)\n",
        "        y.append(emotion)\n",
        "        count += 1\n",
        "        #changing it to 535 because EmoDB has 535 audio samples\n",
        "        print('\\r' + f' Processed {count}/{535} audio samples',end=' ')\n",
        "    return np.array(X), np.array(y)"
      ],
      "metadata": {
        "id": "mK-rEvPsHPgR"
      },
      "execution_count": 140,
      "outputs": []
    },
    {
      "cell_type": "code",
      "source": [
        "featuresE, emotionsE = load_data()"
      ],
      "metadata": {
        "colab": {
          "base_uri": "https://localhost:8080/"
        },
        "id": "9kHhcDFsL6e3",
        "outputId": "45847c12-e7a4-4bec-820d-bf92f08b8f50"
      },
      "execution_count": 125,
      "outputs": [
        {
          "output_type": "stream",
          "name": "stdout",
          "text": [
            " Processed 535/535 audio samples "
          ]
        }
      ]
    },
    {
      "cell_type": "code",
      "source": [
        "#gender in E\n",
        "def load_dataGE():\n",
        "    X,y=[],[]\n",
        "    count = 0\n",
        "    for file in glob.glob(\"/content/drive/MyDrive/EMODB_1/wav/Actor_*/*.wav\"):\n",
        "        file_name=os.path.basename(file)\n",
        "        #print(file_name)\n",
        "\n",
        "\n",
        "        #emotion=emotionsE[(file_name[5])]\n",
        "        gender=genderE[file_name[:2]]\n",
        "        #print(emotion)\n",
        "        features = get_features(file)\n",
        "\n",
        "\n",
        "        X.append(features)\n",
        "        y.append(gender)\n",
        "        count += 1\n",
        "        #changing it to 535 because EmoDB has 535 audio samples\n",
        "        print('\\r' + f' Processed {count}/{535} audio samples',end=' ')\n",
        "    return np.array(X), np.array(y)"
      ],
      "metadata": {
        "id": "frmAR4rqGdzb"
      },
      "execution_count": 148,
      "outputs": []
    },
    {
      "cell_type": "code",
      "source": [
        "featuresE, genderE = load_dataGE()"
      ],
      "metadata": {
        "colab": {
          "base_uri": "https://localhost:8080/"
        },
        "id": "Glkn3UAfHaO-",
        "outputId": "36b01fda-0494-4591-e7a3-da1a5989c99d"
      },
      "execution_count": 144,
      "outputs": [
        {
          "output_type": "stream",
          "name": "stdout",
          "text": [
            " Processed 535/535 audio samples "
          ]
        }
      ]
    },
    {
      "cell_type": "code",
      "source": [
        "#emotion in R\n",
        "import os, glob\n",
        "\n",
        "#there are 1440 voice samples in RAVDESS\n",
        "def load_dataR():\n",
        "    X,y=[],[]\n",
        "    count = 0\n",
        "    for file in glob.glob(\"/content/drive/MyDrive/Audio_Speech_Actors_01-24/Actor_*/*.wav\"):\n",
        "        file_name=os.path.basename(file)\n",
        "        #print(file_name)\n",
        "\n",
        "        emotion=emotions[(file_name.split(\"-\")[2])]\n",
        "        #print(emotion)\n",
        "        features = get_features(file)\n",
        "\n",
        "        X.append(features)\n",
        "        y.append(emotion)\n",
        "        count += 1\n",
        "        #changing it to 535 because ravdess has 1440 vaudio samples\n",
        "        print('\\r' + f' Processed {count}/{1440} audio samples',end=' ')\n",
        "    return np.array(X), np.array(y)"
      ],
      "metadata": {
        "id": "7BaoA2b9L-7N"
      },
      "execution_count": 149,
      "outputs": []
    },
    {
      "cell_type": "code",
      "source": [
        "features, emotions = load_dataR()"
      ],
      "metadata": {
        "colab": {
          "base_uri": "https://localhost:8080/"
        },
        "id": "1d6-7OyuNtAK",
        "outputId": "32472cdf-2fd8-470f-b9cd-1bc210e18f9a"
      },
      "execution_count": 127,
      "outputs": [
        {
          "output_type": "stream",
          "name": "stdout",
          "text": [
            " Processed 1435/1440 audio samples "
          ]
        }
      ]
    },
    {
      "cell_type": "code",
      "source": [
        "#gender in R\n",
        "import os, glob\n",
        "\n",
        "#there are 1440 voice samples in RAVDESS\n",
        "def load_dataGR():\n",
        "    X,y=[],[]\n",
        "    count = 0\n",
        "    for file in glob.glob(\"/content/drive/MyDrive/Audio_Speech_Actors_01-24/Actor_*/*.wav\"):\n",
        "        file_name=os.path.basename(file)\n",
        "        #print(file_name)\n",
        "\n",
        "        gender=genders[(file_name.split(\"-\")[6])]\n",
        "        #print(emotion)\n",
        "        features = get_features(file)\n",
        "\n",
        "        X.append(features)\n",
        "        y.append(gender)\n",
        "        count += 1\n",
        "        #changing it to 535 because ravdess has 1440 vaudio samples\n",
        "        print('\\r' + f' Processed {count}/{1440} audio samples',end=' ')\n",
        "    return np.array(X), np.array(y)"
      ],
      "metadata": {
        "id": "qKYFAxqvHoYc"
      },
      "execution_count": 171,
      "outputs": []
    },
    {
      "cell_type": "code",
      "source": [
        "features, genders = load_dataGR()"
      ],
      "metadata": {
        "colab": {
          "base_uri": "https://localhost:8080/",
          "height": 306
        },
        "id": "VtUWftvZJjtW",
        "outputId": "a81aa56d-9771-4e3e-a791-970f0247b2f9"
      },
      "execution_count": 172,
      "outputs": [
        {
          "output_type": "error",
          "ename": "KeyError",
          "evalue": "'11.wav'",
          "traceback": [
            "\u001b[0;31m---------------------------------------------------------------------------\u001b[0m",
            "\u001b[0;31mKeyError\u001b[0m                                  Traceback (most recent call last)",
            "\u001b[0;32m<ipython-input-172-8f8a8c98f539>\u001b[0m in \u001b[0;36m<cell line: 1>\u001b[0;34m()\u001b[0m\n\u001b[0;32m----> 1\u001b[0;31m \u001b[0mfeatures\u001b[0m\u001b[0;34m,\u001b[0m \u001b[0mgenders\u001b[0m \u001b[0;34m=\u001b[0m \u001b[0mload_dataGR\u001b[0m\u001b[0;34m(\u001b[0m\u001b[0;34m)\u001b[0m\u001b[0;34m\u001b[0m\u001b[0;34m\u001b[0m\u001b[0m\n\u001b[0m",
            "\u001b[0;32m<ipython-input-171-6198251e2b4c>\u001b[0m in \u001b[0;36mload_dataGR\u001b[0;34m()\u001b[0m\n\u001b[1;32m     10\u001b[0m         \u001b[0;31m#print(file_name)\u001b[0m\u001b[0;34m\u001b[0m\u001b[0;34m\u001b[0m\u001b[0m\n\u001b[1;32m     11\u001b[0m \u001b[0;34m\u001b[0m\u001b[0m\n\u001b[0;32m---> 12\u001b[0;31m         \u001b[0mgender\u001b[0m\u001b[0;34m=\u001b[0m\u001b[0mgenders\u001b[0m\u001b[0;34m[\u001b[0m\u001b[0;34m(\u001b[0m\u001b[0mfile_name\u001b[0m\u001b[0;34m.\u001b[0m\u001b[0msplit\u001b[0m\u001b[0;34m(\u001b[0m\u001b[0;34m\"-\"\u001b[0m\u001b[0;34m)\u001b[0m\u001b[0;34m[\u001b[0m\u001b[0;36m6\u001b[0m\u001b[0;34m]\u001b[0m\u001b[0;34m)\u001b[0m\u001b[0;34m]\u001b[0m\u001b[0;34m\u001b[0m\u001b[0;34m\u001b[0m\u001b[0m\n\u001b[0m\u001b[1;32m     13\u001b[0m         \u001b[0;31m#print(emotion)\u001b[0m\u001b[0;34m\u001b[0m\u001b[0;34m\u001b[0m\u001b[0m\n\u001b[1;32m     14\u001b[0m         \u001b[0mfeatures\u001b[0m \u001b[0;34m=\u001b[0m \u001b[0mget_features\u001b[0m\u001b[0;34m(\u001b[0m\u001b[0mfile\u001b[0m\u001b[0;34m)\u001b[0m\u001b[0;34m\u001b[0m\u001b[0;34m\u001b[0m\u001b[0m\n",
            "\u001b[0;31mKeyError\u001b[0m: '11.wav'"
          ]
        }
      ]
    },
    {
      "cell_type": "code",
      "source": [
        "emotionsberlin = np.delete(emotionsE, emotionsE == 'boredom')\n",
        "emotions1 = np.delete(emotions, emotions == 'calm')\n",
        "emotionsr = np.delete(emotions1, emotions1 == 'surprised')"
      ],
      "metadata": {
        "id": "NIIp06V5N7Fa"
      },
      "execution_count": 147,
      "outputs": []
    },
    {
      "cell_type": "code",
      "source": [
        "emotionsall = np.concatenate((emotionsr, emotionsberlin))"
      ],
      "metadata": {
        "id": "SZ-jGe5sXw40"
      },
      "execution_count": 129,
      "outputs": []
    },
    {
      "cell_type": "code",
      "source": [
        "plt.figure(figsize=(35,4))\n",
        "plt.subplot(1,3,2)\n",
        "emotion_list, count = np.unique(emotionsall, return_counts=True)\n",
        "plt.bar(x=range(6), height=count, color = \"green\")\n",
        "plt.xticks(ticks=range(6), labels = [emotion for emotion in emotion_list],fontsize=10)\n",
        "plt.xlabel('Emotion')\n",
        "plt.tick_params(labelsize=16)\n",
        "plt.ylabel('Number of merged Samples')\n",
        "plt.show()\n"
      ],
      "metadata": {
        "colab": {
          "base_uri": "https://localhost:8080/",
          "height": 394
        },
        "id": "0GTgHCBNaGx7",
        "outputId": "f852ca44-d2be-4ec6-ba80-1a7f3825a338"
      },
      "execution_count": 165,
      "outputs": [
        {
          "output_type": "display_data",
          "data": {
            "text/plain": [
              "<Figure size 3500x400 with 1 Axes>"
            ],
            "image/png": "[encoded data removed]"
          },
          "metadata": {}
        }
      ]
    }
  ]
}